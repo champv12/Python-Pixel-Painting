{
 "cells": [
  {
   "cell_type": "code",
   "execution_count": 41,
   "metadata": {},
   "outputs": [
    {
     "data": {
      "text/plain": [
       "\"'\\ncreate_canvas()\\nedit_canvas(3,2)\\nedit_canvas(3,3)\\nedit_canvas(3,6)\\nedit_canvas(3,7)\\nedit_canvas(4,1)\\nedit_canvas(4,4)\\nedit_canvas(4,5)\\nedit_canvas(4,8)\\nedit_canvas(5,1)\\nedit_canvas(5,4)\\nedit_canvas(5,5)\\nedit_canvas(5,8)\\nedit_canvas(6,1)\\nedit_canvas(6,8)\\nedit_canvas(7,2)\\nedit_canvas(7,7)\\nedit_canvas(8,3)\\nedit_canvas(8,6)\\nedit_canvas(9,4)\\nedit_canvas(9,5)\\n\\ndisplay_canvas()\\n\""
      ]
     },
     "execution_count": 41,
     "metadata": {},
     "output_type": "execute_result"
    }
   ],
   "source": [
    "# Enter Height and Width\n",
    "h = 10 \n",
    "w = 10\n",
    "\n",
    "#Dont touch\n",
    "canvas_pixel= 0\n",
    "canvas = {}\n",
    "canvas_created = False\n",
    "#create canvas function\n",
    "#creates canvas according to the height and width defined\n",
    "def create_canvas():\n",
    "    #checks if the entered height and width is an interger\n",
    "    if isinstance(h, int) and isinstance(w, int) and h > 0 and w > 0:\n",
    "        #sets canvas created to true for later error handling\n",
    "        canvas_created = True\n",
    "        #draws the canvas line by line using a loop\n",
    "        for i in range(h):\n",
    "            #creates the line for coordinates on top for reference\n",
    "            if i==0:\n",
    "                canvas[f'row_{i}'] = list(range(w))\n",
    "            else:\n",
    "                canvas[f'row_{i}'] = [i] + ['_'] * (w - 1)\n",
    "    #prints error message if either the height or width isn't in integer \n",
    "    else:\n",
    "        print(\"Enter a number that is greater than 0\")\n",
    "\n",
    "#display canvas function\n",
    "#display the canvas created, if canvas has'nt been created spits out error message \n",
    "def display_canvas(): \n",
    "    if canvas_created == True:\n",
    "        print(\"\")\n",
    "        for i in range(h):\n",
    "            print(\" \".join(str(x) for x in canvas[f'row_{i}']))\n",
    "    else:\n",
    "        print(\"Canvas not created, type create_canvas()\")\n",
    "\n",
    "def edit_canvas(x, y):\n",
    "    if canvas_created == True:\n",
    "        if x < h and y < w:\n",
    "            canvas[f'row_{x}'][y] = canvas_pixel\n",
    "        else: \n",
    "            print(\"coordinates are out of canvas size\")\n",
    "    else:\n",
    "        print(\"Canvas not created, type create_canvas()\")\n",
    "\n",
    "#example below is to draw a heart \n",
    "\n",
    "''''\n",
    "create_canvas()\n",
    "edit_canvas(3,2)\n",
    "edit_canvas(3,3)\n",
    "edit_canvas(3,6)\n",
    "edit_canvas(3,7)\n",
    "edit_canvas(4,1)\n",
    "edit_canvas(4,4)\n",
    "edit_canvas(4,5)\n",
    "edit_canvas(4,8)\n",
    "edit_canvas(5,1)\n",
    "edit_canvas(5,4)\n",
    "edit_canvas(5,5)\n",
    "edit_canvas(5,8)\n",
    "edit_canvas(6,1)\n",
    "edit_canvas(6,8)\n",
    "edit_canvas(7,2)\n",
    "edit_canvas(7,7)\n",
    "edit_canvas(8,3)\n",
    "edit_canvas(8,6)\n",
    "edit_canvas(9,4)\n",
    "edit_canvas(9,5)\n",
    "\n",
    "display_canvas()\n",
    "'''"
   ]
  },
  {
   "cell_type": "code",
   "execution_count": null,
   "metadata": {},
   "outputs": [],
   "source": []
  }
 ],
 "metadata": {
  "kernelspec": {
   "display_name": "Python 3",
   "language": "python",
   "name": "python3"
  },
  "language_info": {
   "codemirror_mode": {
    "name": "ipython",
    "version": 3
   },
   "file_extension": ".py",
   "mimetype": "text/x-python",
   "name": "python",
   "nbconvert_exporter": "python",
   "pygments_lexer": "ipython3",
   "version": "3.9.6"
  }
 },
 "nbformat": 4,
 "nbformat_minor": 2
}
