{
 "cells": [
  {
   "cell_type": "code",
   "execution_count": null,
   "metadata": {},
   "outputs": [
    {
     "name": "stdout",
     "output_type": "stream",
     "text": [
      "         \n",
      "         \n",
      "         \n",
      "         \n",
      "         \n",
      "         \n",
      "         \n",
      "         \n",
      "         \n",
      "         \n"
     ]
    }
   ],
   "source": [
    "canvas_pixel=[0]\n",
    "\n",
    "def draw_canvas(h, w):\n",
    "    if isinstance(h, int) and isinstance(w, int) and h > 0 and w >:\n",
    "        for i in range(h):\n",
    "            row_\n",
    "        \n",
    "    else:\n",
    "        print(\"Enter a number that is greater than 0\")"
   ]
  },
  {
   "cell_type": "code",
   "execution_count": null,
   "metadata": {},
   "outputs": [],
   "source": []
  }
 ],
 "metadata": {
  "kernelspec": {
   "display_name": "Python 3",
   "language": "python",
   "name": "python3"
  },
  "language_info": {
   "codemirror_mode": {
    "name": "ipython",
    "version": 3
   },
   "file_extension": ".py",
   "mimetype": "text/x-python",
   "name": "python",
   "nbconvert_exporter": "python",
   "pygments_lexer": "ipython3",
   "version": "3.9.6"
  }
 },
 "nbformat": 4,
 "nbformat_minor": 2
}
