{
 "cells": [
  {
   "cell_type": "code",
   "execution_count": null,
   "metadata": {},
   "outputs": [
    {
     "name": "stdout",
     "output_type": "stream",
     "text": [
      "\n",
      "0 1 2 3 4 5 6 7 8 9\n",
      "1 _ _ _ _ _ _ _ _ _\n",
      "2 _ _ _ _ _ _ _ _ _\n",
      "3 _ 0 0 _ _ 0 0 _ _\n",
      "4 0 _ _ 0 0 _ _ 0 _\n",
      "5 0 _ _ 0 0 _ _ 0 _\n",
      "6 _ _ _ _ _ _ _ _ _\n",
      "7 _ _ _ _ _ _ _ _ _\n",
      "8 _ _ _ _ _ _ _ _ _\n",
      "9 _ _ _ _ _ _ _ _ _\n"
     ]
    }
   ],
   "source": [
    "# Enter Height and Width\n",
    "h = 10 \n",
    "w = 10\n",
    "\n",
    "#Dont touch\n",
    "canvas_pixel= 0\n",
    "canvas = {}\n",
    "\n",
    "def create_canvas():\n",
    "    if isinstance(h, int) and isinstance(w, int) and h > 0 and w > 0:\n",
    "        for i in range(h):\n",
    "            if i==0:\n",
    "                canvas[f'row_{i}'] = list(range(w))\n",
    "                # print(\" \".join(str(x) for x in canvas[f'row_{i}']))\n",
    "            else:\n",
    "                canvas[f'row_{i}'] = [i] + ['_'] * (w - 1)\n",
    "                # print(\" \".join(str(x) if x != '' else ' ' for x in canvas[f'row_{i}']))\n",
    "    else:\n",
    "        print(\"Enter a number that is greater than 0\")\n",
    "\n",
    "def display_canvas():           \n",
    "    print(\"\")\n",
    "    for i in range(h):\n",
    "        print(\" \".join(str(x) for x in canvas[f'row_{i}']))\n",
    "\n",
    "def edit_canvas(x, y):\n",
    "    if x < h and y < w:\n",
    "        canvas[f'row_{x}'][y] = canvas_pixel\n",
    "    else: \n",
    "        print(\"coordinates are out of canvas size\")\n",
    "\n",
    "create_canvas()\n",
    "edit_canvas(3,2)\n",
    "edit_canvas(3,3)\n",
    "edit_canvas(3,6)\n",
    "edit_canvas(3,7)\n",
    "edit_canvas(4,1)\n",
    "edit_canvas(4,4)\n",
    "edit_canvas(4,5)\n",
    "edit_canvas(4,8)\n",
    "edit_canvas(5,1)\n",
    "edit_canvas(5,4)\n",
    "edit_canvas(5,5)\n",
    "edit_canvas(5,8)\n",
    "edit_canvas(6,1)\n",
    "edit_canvas(6,8)\n",
    "edit_canvas(7,2)\n",
    "edit_canvas(7,7)\n",
    "edit_canvas(8,3)\n",
    "edit_canvas(8,6)\n",
    "edit_canvas(9,7)\n",
    "edit_canvas(9,7)\n",
    "\n",
    "\n",
    "\n",
    "\n"
   ]
  },
  {
   "cell_type": "code",
   "execution_count": null,
   "metadata": {},
   "outputs": [],
   "source": []
  }
 ],
 "metadata": {
  "kernelspec": {
   "display_name": "Python 3",
   "language": "python",
   "name": "python3"
  },
  "language_info": {
   "codemirror_mode": {
    "name": "ipython",
    "version": 3
   },
   "file_extension": ".py",
   "mimetype": "text/x-python",
   "name": "python",
   "nbconvert_exporter": "python",
   "pygments_lexer": "ipython3",
   "version": "3.9.6"
  }
 },
 "nbformat": 4,
 "nbformat_minor": 2
}
